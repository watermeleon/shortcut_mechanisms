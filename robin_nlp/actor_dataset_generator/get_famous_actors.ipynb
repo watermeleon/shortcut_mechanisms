{
 "cells": [
  {
   "cell_type": "markdown",
   "metadata": {},
   "source": [
    "# Get a list of famous actors\n",
    "- The csv file obtained from the github repo : https://github.com/cckuqui/IMDB-analysis/tree/master/Original%20Data\n",
    "- The specific data file: https://github.com/cckuqui/IMDB-analysis/blob/master/Original%20Data/IMDb_names.csv\n",
    "\n",
    "\n",
    "ToDo:\n",
    "- place the file `IMDb_names.csv` in the folder `./data/imdb_actors_dataset/` from the main repo."
   ]
  },
  {
   "cell_type": "code",
   "execution_count": null,
   "metadata": {},
   "outputs": [],
   "source": [
    "import os\n",
    "import requests\n",
    "from tqdm import tqdm\n",
    "import pandas as pd\n",
    "import numpy as np\n"
   ]
  },
  {
   "cell_type": "code",
   "execution_count": null,
   "metadata": {},
   "outputs": [],
   "source": [
    "file_url = \"https://github.com/cckuqui/IMDB-analysis/raw/master/Original%20Data/IMDb_names.csv\"\n",
    "filename = \"../../data/imdb_actors_dataset/IMDb_names.csv\"\n",
    "\n",
    "download_file = True"
   ]
  },
  {
   "cell_type": "code",
   "execution_count": null,
   "metadata": {},
   "outputs": [
    {
     "name": "stderr",
     "output_type": "stream",
     "text": [
      "../../data/imdb_actors_dataset/IMDb_names.csv: 89.6MiB [00:06, 13.7MiB/s]                           "
     ]
    },
    {
     "name": "stdout",
     "output_type": "stream",
     "text": [
      "File downloaded and saved to ../../data/imdb_actors_dataset/IMDb_names.csv\n"
     ]
    },
    {
     "name": "stderr",
     "output_type": "stream",
     "text": [
      "\n"
     ]
    }
   ],
   "source": [
    "if download_file:\n",
    "    # Create the directory if it doesn't exist\n",
    "    os.makedirs(os.path.dirname(filename), exist_ok=True)\n",
    "\n",
    "    # Download the file and save it with a progress bar\n",
    "    response = requests.get(file_url, stream=True)\n",
    "    total_size = int(response.headers.get('content-length', 0))\n",
    "    block_size = 1024  # 1 Kilobyte\n",
    "    with open(filename, 'wb') as file, tqdm(\n",
    "        desc=filename,\n",
    "        total=total_size,\n",
    "        unit='iB',\n",
    "        unit_scale=True,\n",
    "        unit_divisor=1024,\n",
    "    ) as bar:\n",
    "        for data in response.iter_content(block_size):\n",
    "            file.write(data)\n",
    "            bar.update(len(data))\n",
    "\n",
    "    print(f\"File downloaded and saved to {filename}\")\n"
   ]
  },
  {
   "cell_type": "code",
   "execution_count": null,
   "metadata": {},
   "outputs": [
    {
     "name": "stdout",
     "output_type": "stream",
     "text": [
      "Files in ../../data/imdb_actors_dataset:\n",
      "IMDb_names.csv\n",
      "Actors (first 5): ['Fred Astaire' 'John Belushi' 'Ingmar Bergman' 'Humphrey Bogart'\n",
      " 'Marlon Brando']\n",
      "Actresses (first 5): ['Lauren Bacall' 'Brigitte Bardot' 'Ingrid Bergman' 'Bette Davis'\n",
      " 'Doris Day']\n",
      "Filtered Actors (first 5): ['Fred Astaire' 'John Belushi' 'Ingmar Bergman' 'Humphrey Bogart'\n",
      " 'Marlon Brando']\n",
      "Filtered Actresses (first 5): ['Lauren Bacall' 'Brigitte Bardot' 'Ingrid Bergman' 'Bette Davis'\n",
      " 'Doris Day']\n",
      "\n",
      "Type checks:\n",
      "Actors: <class 'numpy.ndarray'>\n",
      "Actresses: <class 'numpy.ndarray'>\n",
      "Filtered Actors: <class 'numpy.ndarray'>\n",
      "Filtered Actresses: <class 'numpy.ndarray'>\n",
      "\n",
      "Single-word names found: None\n"
     ]
    }
   ],
   "source": [
    "\n",
    "# CSV file\n",
    "filename = \"../../data/imdb_actors_dataset/IMDb_names.csv\"\n",
    "\n",
    "\n",
    "# list files in same folder as  ../../data/\n",
    "import os\n",
    "print(\"Files in ../../data/imdb_actors_dataset:\")\n",
    "for file in os.listdir(\"../../data/imdb_actors_dataset\"):\n",
    "    print(file)\n",
    "\n",
    "# check if the file exists\n",
    "try:\n",
    "    with open(filename) as file:\n",
    "        pass\n",
    "except FileNotFoundError:\n",
    "    print(f\"File '{filename}' not found\")\n",
    "\n",
    "\n",
    "# Load this file as a DataFrame\n",
    "df = pd.read_csv(filename)\n",
    "\n",
    "# Function to filter based on primary profession\n",
    "def filter_profession(profession, row):\n",
    "    professions = row['primary_profession']\n",
    "    if isinstance(professions, str):\n",
    "        professions = professions.split(',')\n",
    "        return profession in professions\n",
    "    return False\n",
    "\n",
    "# Function to filter based on minimum number of known titles\n",
    "def filter_titles(min_titles, row):\n",
    "    titles = row['known_for_titles']\n",
    "    if isinstance(titles, str):\n",
    "        return len(titles.split(',')) >= min_titles\n",
    "    return False\n",
    "\n",
    "# Function to filter based on having at least two names\n",
    "def filter_two_names(row):\n",
    "    name = row['name']\n",
    "    if isinstance(name, str):\n",
    "        twonames = len(name.split()) >= 2\n",
    "        if twonames:\n",
    "            # check if name is more then 8 characters long\n",
    "            return len(name) >= 8\n",
    "        else:\n",
    "            return False\n",
    "    return False\n",
    "\n",
    "# Extract actor and actress names with the new filter\n",
    "actor_names = df[\n",
    "    (df.apply(lambda row: filter_profession('actor', row), axis=1)) &\n",
    "    (df.apply(filter_two_names, axis=1))  # Fixed: removed lambda\n",
    "]['name'].values\n",
    "\n",
    "actress_names = df[\n",
    "    (df.apply(lambda row: filter_profession('actress', row), axis=1)) &\n",
    "    (df.apply(filter_two_names, axis=1))  # Fixed: removed lambda\n",
    "]['name'].values\n",
    "\n",
    "# Option to filter based on minimum number of known titles\n",
    "minimal_titles = 3  # You can adjust this number as needed\n",
    "actor_names_filtered = df[\n",
    "    (df.apply(lambda row: filter_profession('actor', row), axis=1)) &\n",
    "    (df.apply(lambda row: filter_titles(minimal_titles, row), axis=1)) &\n",
    "    (df.apply(filter_two_names, axis=1))  # Fixed: removed lambda\n",
    "]['name'].values\n",
    "\n",
    "actress_names_filtered = df[\n",
    "    (df.apply(lambda row: filter_profession('actress', row), axis=1)) &\n",
    "    (df.apply(lambda row: filter_titles(minimal_titles, row), axis=1)) &\n",
    "    (df.apply(filter_two_names, axis=1))  # Fixed: removed lambda\n",
    "]['name'].values\n",
    "\n",
    "# Save the actor and actress names as numpy arrays\n",
    "# result_path = \"./data/\"\n",
    "result_path = \"../../data/imdb_actors_dataset/\"\n",
    "\n",
    "np.save(result_path + 'actor_names.npy', actor_names)\n",
    "np.save(result_path + 'actress_names.npy', actress_names)\n",
    "np.save(result_path + 'actor_names_filtered.npy', actor_names_filtered)\n",
    "np.save(result_path + 'actress_names_filtered.npy', actress_names_filtered)\n",
    "\n",
    "# Load the names back as numpy arrays\n",
    "loaded_actor_names = np.load(result_path + 'actor_names.npy', allow_pickle=True)\n",
    "loaded_actress_names = np.load(result_path + 'actress_names.npy', allow_pickle=True)\n",
    "loaded_actor_names_filtered = np.load(result_path + 'actor_names_filtered.npy', allow_pickle=True)\n",
    "loaded_actress_names_filtered = np.load(result_path + 'actress_names_filtered.npy', allow_pickle=True)\n",
    "\n",
    "# Display the loaded names\n",
    "print(\"Actors (first 5):\", loaded_actor_names[:5])\n",
    "print(\"Actresses (first 5):\", loaded_actress_names[:5])\n",
    "print(\"Filtered Actors (first 5):\", loaded_actor_names_filtered[:5])\n",
    "print(\"Filtered Actresses (first 5):\", loaded_actress_names_filtered[:5])\n",
    "\n",
    "# Verify that the outputs are numpy arrays\n",
    "print(\"\\nType checks:\")\n",
    "print(\"Actors:\", type(loaded_actor_names))\n",
    "print(\"Actresses:\", type(loaded_actress_names))\n",
    "print(\"Filtered Actors:\", type(loaded_actor_names_filtered))\n",
    "print(\"Filtered Actresses:\", type(loaded_actress_names_filtered))\n",
    "\n",
    "# Additional check for single-word names\n",
    "single_word_names = [name for name in loaded_actor_names if len(name.split()) == 1]\n",
    "print(\"\\nSingle-word names found:\", single_word_names[:10] if single_word_names else \"None\")"
   ]
  },
  {
   "cell_type": "code",
   "execution_count": 4,
   "metadata": {},
   "outputs": [
    {
     "data": {
      "text/plain": [
       "'Jude Law'"
      ]
     },
     "execution_count": 4,
     "metadata": {},
     "output_type": "execute_result"
    }
   ],
   "source": [
    "shortest_name_actor = min(actor_names, key=len)\n",
    "shortest_name_actor"
   ]
  },
  {
   "cell_type": "code",
   "execution_count": 5,
   "metadata": {},
   "outputs": [
    {
     "data": {
      "text/plain": [
       "(59280, 32482, 52536, 28266)"
      ]
     },
     "execution_count": 5,
     "metadata": {},
     "output_type": "execute_result"
    }
   ],
   "source": [
    "len(loaded_actor_names), len(loaded_actress_names), len(loaded_actor_names_filtered), len(loaded_actress_names_filtered)"
   ]
  },
  {
   "cell_type": "code",
   "execution_count": 6,
   "metadata": {},
   "outputs": [],
   "source": [
    "unfamour_actors = np.setdiff1d(set(loaded_actor_names), set(loaded_actor_names_filtered))"
   ]
  },
  {
   "cell_type": "code",
   "execution_count": 7,
   "metadata": {},
   "outputs": [],
   "source": [
    "# loaded_actor_names_filtered[:10]"
   ]
  },
  {
   "cell_type": "code",
   "execution_count": 8,
   "metadata": {},
   "outputs": [],
   "source": [
    "# unfamour_actors"
   ]
  },
  {
   "cell_type": "code",
   "execution_count": null,
   "metadata": {},
   "outputs": [],
   "source": []
  }
 ],
 "metadata": {
  "kernelspec": {
   "display_name": "robin_env",
   "language": "python",
   "name": "python3"
  },
  "language_info": {
   "codemirror_mode": {
    "name": "ipython",
    "version": 3
   },
   "file_extension": ".py",
   "mimetype": "text/x-python",
   "name": "python",
   "nbconvert_exporter": "python",
   "pygments_lexer": "ipython3",
   "version": "3.9.18"
  }
 },
 "nbformat": 4,
 "nbformat_minor": 2
}
